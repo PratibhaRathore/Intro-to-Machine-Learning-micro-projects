{
 "cells": [
  {
   "cell_type": "code",
   "execution_count": 1,
   "metadata": {
    "collapsed": true
   },
   "outputs": [],
   "source": [
    "# Importing the libraries\n",
    "import numpy as np\n",
    "import matplotlib.pyplot as plt\n",
    "import pandas as pd"
   ]
  },
  {
   "cell_type": "code",
   "execution_count": 2,
   "metadata": {
    "collapsed": true
   },
   "outputs": [],
   "source": [
    "dataset = pd.read_csv('Churn_Modelling.csv')"
   ]
  },
  {
   "cell_type": "code",
   "execution_count": 4,
   "metadata": {
    "collapsed": true
   },
   "outputs": [],
   "source": [
    "X = dataset.iloc[:, 3:13].values\n",
    "y = dataset.iloc[:, 13].values"
   ]
  },
  {
   "cell_type": "code",
   "execution_count": 5,
   "metadata": {
    "collapsed": false
   },
   "outputs": [],
   "source": [
    "#Encode categorical variables in X - Country and Gender\n",
    "\n",
    "#Country\n",
    "from sklearn.preprocessing import LabelEncoder, OneHotEncoder\n",
    "labelencoder_X_1 = LabelEncoder()\n",
    "X[:, 1] = labelencoder_X_1.fit_transform(X[:, 1])\n",
    "\n",
    "#Gender\n",
    "labelencoder_X_2 = LabelEncoder()\n",
    "X[:, 2] = labelencoder_X_2.fit_transform(X[:, 2])"
   ]
  },
  {
   "cell_type": "code",
   "execution_count": 6,
   "metadata": {
    "collapsed": true
   },
   "outputs": [],
   "source": [
    "onehotencoder = OneHotEncoder(categorical_features = [1])\n",
    "X = onehotencoder.fit_transform(X).toarray()"
   ]
  },
  {
   "cell_type": "code",
   "execution_count": 7,
   "metadata": {
    "collapsed": true
   },
   "outputs": [],
   "source": [
    "#because there is no order in country names three dummy variables are created,\n",
    "#remove one dummy variable\n",
    "X = X[:, 1:]"
   ]
  },
  {
   "cell_type": "code",
   "execution_count": 8,
   "metadata": {
    "collapsed": true
   },
   "outputs": [],
   "source": [
    "from sklearn.cross_validation import train_test_split\n",
    "X_train, X_test, y_train, y_test = train_test_split(X, y, test_size = 0.2, random_state = 0)"
   ]
  },
  {
   "cell_type": "code",
   "execution_count": 9,
   "metadata": {
    "collapsed": true
   },
   "outputs": [],
   "source": [
    "#Neural nets are compute, It is better to apply feature scaling\n",
    "# so certain variables donot dominate other variables\n",
    "# Feature Scaling\n",
    "from sklearn.preprocessing import StandardScaler\n",
    "sc = StandardScaler()\n",
    "X_train = sc.fit_transform(X_train)\n",
    "X_test = sc.transform(X_test)"
   ]
  },
  {
   "cell_type": "code",
   "execution_count": 11,
   "metadata": {
    "collapsed": false
   },
   "outputs": [
    {
     "name": "stderr",
     "output_type": "stream",
     "text": [
      "Using TensorFlow backend.\n"
     ]
    }
   ],
   "source": [
    "# Import Keras libraries \n",
    "import keras\n",
    "from keras.models import Sequential # initialize Neural network\n",
    "from keras.layers import Dense # to create hidden layers"
   ]
  },
  {
   "cell_type": "code",
   "execution_count": 12,
   "metadata": {
    "collapsed": true
   },
   "outputs": [],
   "source": [
    "classifier = Sequential()   #Initialize NN"
   ]
  },
  {
   "cell_type": "code",
   "execution_count": 13,
   "metadata": {
    "collapsed": false
   },
   "outputs": [
    {
     "name": "stderr",
     "output_type": "stream",
     "text": [
      "/Users/rathorp/anaconda/lib/python3.5/site-packages/ipykernel/__main__.py:2: UserWarning: Update your `Dense` call to the Keras 2 API: `Dense(kernel_initializer=\"uniform\", units=6, activation=\"relu\", input_dim=11)`\n",
      "  from ipykernel import kernelapp as app\n"
     ]
    }
   ],
   "source": [
    "# Add hidden layers\n",
    "classifier.add(Dense(output_dim = 6, init = 'uniform', activation = 'relu', input_dim = 11))\n",
    "# output_dim means how many nodes in hidden layer, \n",
    "#you can experiment different values, parameter tuning, use cross-validation\n",
    "# tip: you can take average of no of input or output nodes\n",
    "#relu - rectifier function"
   ]
  },
  {
   "cell_type": "code",
   "execution_count": 14,
   "metadata": {
    "collapsed": false
   },
   "outputs": [
    {
     "name": "stderr",
     "output_type": "stream",
     "text": [
      "/Users/rathorp/anaconda/lib/python3.5/site-packages/ipykernel/__main__.py:4: UserWarning: Update your `Dense` call to the Keras 2 API: `Dense(kernel_initializer=\"uniform\", activation=\"relu\", units=6)`\n"
     ]
    }
   ],
   "source": [
    "# adding second hidden layear\n",
    "#remove input_dim, since NN is already initialized\n",
    "# activation fn = rectifier for hiddem layer and sigmoid for output layer\n",
    "classifier.add(Dense(output_dim = 6, init = 'uniform', activation = 'relu'))"
   ]
  },
  {
   "cell_type": "code",
   "execution_count": 15,
   "metadata": {
    "collapsed": false
   },
   "outputs": [
    {
     "name": "stderr",
     "output_type": "stream",
     "text": [
      "/Users/rathorp/anaconda/lib/python3.5/site-packages/ipykernel/__main__.py:2: UserWarning: Update your `Dense` call to the Keras 2 API: `Dense(kernel_initializer=\"uniform\", activation=\"sigmoid\", units=1)`\n",
      "  from ipykernel import kernelapp as app\n"
     ]
    }
   ],
   "source": [
    "#add output layer to complete the Neural Network\n",
    "classifier.add(Dense(output_dim = 1, init = 'uniform', activation = 'sigmoid'))"
   ]
  },
  {
   "cell_type": "code",
   "execution_count": 16,
   "metadata": {
    "collapsed": true
   },
   "outputs": [],
   "source": [
    "# compile NN - add stochastic gradient descnet\n",
    "classifier.compile(optimizer= 'adam' , loss = 'binary_crossentropy',metrics = ['accuracy'])"
   ]
  },
  {
   "cell_type": "code",
   "execution_count": 17,
   "metadata": {
    "collapsed": false
   },
   "outputs": [
    {
     "name": "stderr",
     "output_type": "stream",
     "text": [
      "/Users/rathorp/anaconda/lib/python3.5/site-packages/keras/models.py:837: UserWarning: The `nb_epoch` argument in `fit` has been renamed `epochs`.\n",
      "  warnings.warn('The `nb_epoch` argument in `fit` '\n"
     ]
    },
    {
     "name": "stdout",
     "output_type": "stream",
     "text": [
      "Epoch 1/100\n",
      "8000/8000 [==============================] - 2s - loss: 0.4892 - acc: 0.7952     \n",
      "Epoch 2/100\n",
      "8000/8000 [==============================] - 1s - loss: 0.4291 - acc: 0.7960     \n",
      "Epoch 3/100\n",
      "8000/8000 [==============================] - 2s - loss: 0.4233 - acc: 0.7960     \n",
      "Epoch 4/100\n",
      "8000/8000 [==============================] - 2s - loss: 0.4185 - acc: 0.8152     \n",
      "Epoch 5/100\n",
      "8000/8000 [==============================] - 2s - loss: 0.4159 - acc: 0.8269     \n",
      "Epoch 6/100\n",
      "8000/8000 [==============================] - 2s - loss: 0.4139 - acc: 0.8291     \n",
      "Epoch 7/100\n",
      "8000/8000 [==============================] - 2s - loss: 0.4126 - acc: 0.8321     \n",
      "Epoch 8/100\n",
      "8000/8000 [==============================] - 2s - loss: 0.4109 - acc: 0.8319     \n",
      "Epoch 9/100\n",
      "8000/8000 [==============================] - 2s - loss: 0.4102 - acc: 0.8322     \n",
      "Epoch 10/100\n",
      "8000/8000 [==============================] - 2s - loss: 0.4088 - acc: 0.8340     \n",
      "Epoch 11/100\n",
      "8000/8000 [==============================] - 2s - loss: 0.4081 - acc: 0.8360     \n",
      "Epoch 12/100\n",
      "8000/8000 [==============================] - 2s - loss: 0.4077 - acc: 0.8336     \n",
      "Epoch 13/100\n",
      "8000/8000 [==============================] - 2s - loss: 0.4068 - acc: 0.8342     \n",
      "Epoch 14/100\n",
      "8000/8000 [==============================] - 2s - loss: 0.4066 - acc: 0.8345     \n",
      "Epoch 15/100\n",
      "8000/8000 [==============================] - 2s - loss: 0.4047 - acc: 0.8356     \n",
      "Epoch 16/100\n",
      "8000/8000 [==============================] - 2s - loss: 0.4032 - acc: 0.8354     \n",
      "Epoch 17/100\n",
      "8000/8000 [==============================] - 2s - loss: 0.4024 - acc: 0.8347     \n",
      "Epoch 18/100\n",
      "8000/8000 [==============================] - 2s - loss: 0.4008 - acc: 0.8359     \n",
      "Epoch 19/100\n",
      "8000/8000 [==============================] - 2s - loss: 0.4005 - acc: 0.8355     \n",
      "Epoch 20/100\n",
      "8000/8000 [==============================] - 2s - loss: 0.3995 - acc: 0.8375     \n",
      "Epoch 21/100\n",
      "8000/8000 [==============================] - 2s - loss: 0.3993 - acc: 0.8355     \n",
      "Epoch 22/100\n",
      "8000/8000 [==============================] - 2s - loss: 0.3985 - acc: 0.8344     \n",
      "Epoch 23/100\n",
      "8000/8000 [==============================] - 1s - loss: 0.3980 - acc: 0.8356     \n",
      "Epoch 24/100\n",
      "8000/8000 [==============================] - 1s - loss: 0.3978 - acc: 0.8354     \n",
      "Epoch 25/100\n",
      "8000/8000 [==============================] - 2s - loss: 0.3969 - acc: 0.8359     \n",
      "Epoch 26/100\n",
      "8000/8000 [==============================] - 2s - loss: 0.3966 - acc: 0.8351     \n",
      "Epoch 27/100\n",
      "8000/8000 [==============================] - 2s - loss: 0.3964 - acc: 0.8375     \n",
      "Epoch 28/100\n",
      "8000/8000 [==============================] - 1s - loss: 0.3957 - acc: 0.8359     \n",
      "Epoch 29/100\n",
      "8000/8000 [==============================] - 2s - loss: 0.3957 - acc: 0.8361     \n",
      "Epoch 30/100\n",
      "8000/8000 [==============================] - 2s - loss: 0.3954 - acc: 0.8365     \n",
      "Epoch 31/100\n",
      "8000/8000 [==============================] - 2s - loss: 0.3956 - acc: 0.8360     \n",
      "Epoch 32/100\n",
      "8000/8000 [==============================] - 2s - loss: 0.3955 - acc: 0.8369     \n",
      "Epoch 33/100\n",
      "8000/8000 [==============================] - 2s - loss: 0.3950 - acc: 0.8361     \n",
      "Epoch 34/100\n",
      "8000/8000 [==============================] - 1s - loss: 0.3950 - acc: 0.8359     \n",
      "Epoch 35/100\n",
      "8000/8000 [==============================] - 1s - loss: 0.3951 - acc: 0.8360     \n",
      "Epoch 36/100\n",
      "8000/8000 [==============================] - 1s - loss: 0.3948 - acc: 0.8365     \n",
      "Epoch 37/100\n",
      "8000/8000 [==============================] - 2s - loss: 0.3946 - acc: 0.8367     \n",
      "Epoch 38/100\n",
      "8000/8000 [==============================] - 2s - loss: 0.3949 - acc: 0.8357     \n",
      "Epoch 39/100\n",
      "8000/8000 [==============================] - 2s - loss: 0.3940 - acc: 0.8359     \n",
      "Epoch 40/100\n",
      "8000/8000 [==============================] - 1s - loss: 0.3943 - acc: 0.8354     \n",
      "Epoch 41/100\n",
      "8000/8000 [==============================] - 1s - loss: 0.3942 - acc: 0.8379     \n",
      "Epoch 42/100\n",
      "8000/8000 [==============================] - 2s - loss: 0.3942 - acc: 0.8365     \n",
      "Epoch 43/100\n",
      "8000/8000 [==============================] - 2s - loss: 0.3940 - acc: 0.8372     \n",
      "Epoch 44/100\n",
      "8000/8000 [==============================] - 2s - loss: 0.3940 - acc: 0.8361     \n",
      "Epoch 45/100\n",
      "8000/8000 [==============================] - 2s - loss: 0.3940 - acc: 0.8390     \n",
      "Epoch 46/100\n",
      "8000/8000 [==============================] - 2s - loss: 0.3939 - acc: 0.8365     \n",
      "Epoch 47/100\n",
      "8000/8000 [==============================] - 2s - loss: 0.3937 - acc: 0.8359     \n",
      "Epoch 48/100\n",
      "8000/8000 [==============================] - 2s - loss: 0.3933 - acc: 0.8369     \n",
      "Epoch 49/100\n",
      "8000/8000 [==============================] - 2s - loss: 0.3930 - acc: 0.8382     \n",
      "Epoch 50/100\n",
      "8000/8000 [==============================] - 2s - loss: 0.3930 - acc: 0.8370     \n",
      "Epoch 51/100\n",
      "8000/8000 [==============================] - 2s - loss: 0.3928 - acc: 0.8361     \n",
      "Epoch 52/100\n",
      "8000/8000 [==============================] - 2s - loss: 0.3924 - acc: 0.8379     \n",
      "Epoch 53/100\n",
      "8000/8000 [==============================] - 2s - loss: 0.3919 - acc: 0.8379     \n",
      "Epoch 54/100\n",
      "8000/8000 [==============================] - 2s - loss: 0.3912 - acc: 0.8380     \n",
      "Epoch 55/100\n",
      "8000/8000 [==============================] - 2s - loss: 0.3903 - acc: 0.8370     \n",
      "Epoch 56/100\n",
      "8000/8000 [==============================] - 2s - loss: 0.3902 - acc: 0.8374     \n",
      "Epoch 57/100\n",
      "8000/8000 [==============================] - 2s - loss: 0.3894 - acc: 0.8385     \n",
      "Epoch 58/100\n",
      "8000/8000 [==============================] - 2s - loss: 0.3880 - acc: 0.8397     \n",
      "Epoch 59/100\n",
      "8000/8000 [==============================] - 2s - loss: 0.3858 - acc: 0.8389     \n",
      "Epoch 60/100\n",
      "8000/8000 [==============================] - 2s - loss: 0.3829 - acc: 0.8414     \n",
      "Epoch 61/100\n",
      "8000/8000 [==============================] - 1s - loss: 0.3787 - acc: 0.8397     \n",
      "Epoch 62/100\n",
      "8000/8000 [==============================] - 1s - loss: 0.3723 - acc: 0.8416     \n",
      "Epoch 63/100\n",
      "8000/8000 [==============================] - 2s - loss: 0.3666 - acc: 0.8466     \n",
      "Epoch 64/100\n",
      "8000/8000 [==============================] - 2s - loss: 0.3604 - acc: 0.8476     \n",
      "Epoch 65/100\n",
      "8000/8000 [==============================] - 2s - loss: 0.3559 - acc: 0.8552     \n",
      "Epoch 66/100\n",
      "8000/8000 [==============================] - 2s - loss: 0.3514 - acc: 0.8557     \n",
      "Epoch 67/100\n",
      "8000/8000 [==============================] - 2s - loss: 0.3496 - acc: 0.8565     \n",
      "Epoch 68/100\n",
      "8000/8000 [==============================] - 2s - loss: 0.3465 - acc: 0.8587     \n",
      "Epoch 69/100\n",
      "8000/8000 [==============================] - 2s - loss: 0.3464 - acc: 0.8582     \n",
      "Epoch 70/100\n",
      "8000/8000 [==============================] - 2s - loss: 0.3445 - acc: 0.8590     \n",
      "Epoch 71/100\n",
      "8000/8000 [==============================] - 2s - loss: 0.3437 - acc: 0.8600     \n",
      "Epoch 72/100\n",
      "8000/8000 [==============================] - 2s - loss: 0.3437 - acc: 0.8596     \n",
      "Epoch 73/100\n",
      "8000/8000 [==============================] - 2s - loss: 0.3430 - acc: 0.8580     \n",
      "Epoch 74/100\n",
      "8000/8000 [==============================] - 2s - loss: 0.3422 - acc: 0.8589     \n",
      "Epoch 75/100\n",
      "8000/8000 [==============================] - 2s - loss: 0.3425 - acc: 0.8602     \n",
      "Epoch 76/100\n",
      "8000/8000 [==============================] - 2s - loss: 0.3421 - acc: 0.8596     \n",
      "Epoch 77/100\n",
      "8000/8000 [==============================] - 2s - loss: 0.3412 - acc: 0.8600     \n",
      "Epoch 78/100\n",
      "8000/8000 [==============================] - 2s - loss: 0.3404 - acc: 0.8619     \n",
      "Epoch 79/100\n",
      "8000/8000 [==============================] - 2s - loss: 0.3405 - acc: 0.8610     \n",
      "Epoch 80/100\n",
      "8000/8000 [==============================] - 2s - loss: 0.3399 - acc: 0.8622     \n",
      "Epoch 81/100\n",
      "8000/8000 [==============================] - 2s - loss: 0.3392 - acc: 0.8606     \n",
      "Epoch 82/100\n",
      "8000/8000 [==============================] - 2s - loss: 0.3395 - acc: 0.8596     \n",
      "Epoch 83/100\n",
      "8000/8000 [==============================] - 2s - loss: 0.3386 - acc: 0.8605     \n",
      "Epoch 84/100\n",
      "8000/8000 [==============================] - 2s - loss: 0.3388 - acc: 0.8612     \n",
      "Epoch 85/100\n",
      "8000/8000 [==============================] - 2s - loss: 0.3380 - acc: 0.8600     \n",
      "Epoch 86/100\n",
      "8000/8000 [==============================] - 2s - loss: 0.3381 - acc: 0.8622     \n",
      "Epoch 87/100\n",
      "8000/8000 [==============================] - 2s - loss: 0.3383 - acc: 0.8621     \n",
      "Epoch 88/100\n",
      "8000/8000 [==============================] - 2s - loss: 0.3374 - acc: 0.8625     \n",
      "Epoch 89/100\n",
      "8000/8000 [==============================] - 2s - loss: 0.3367 - acc: 0.8605     \n",
      "Epoch 90/100\n",
      "8000/8000 [==============================] - 2s - loss: 0.3372 - acc: 0.8605     \n",
      "Epoch 91/100\n",
      "8000/8000 [==============================] - 2s - loss: 0.3366 - acc: 0.8619     \n",
      "Epoch 92/100\n",
      "8000/8000 [==============================] - 2s - loss: 0.3369 - acc: 0.8602     \n",
      "Epoch 93/100\n",
      "8000/8000 [==============================] - 2s - loss: 0.3360 - acc: 0.8617     \n",
      "Epoch 94/100\n",
      "8000/8000 [==============================] - 2s - loss: 0.3366 - acc: 0.8617     \n",
      "Epoch 95/100\n",
      "8000/8000 [==============================] - 2s - loss: 0.3357 - acc: 0.8635     \n",
      "Epoch 96/100\n",
      "8000/8000 [==============================] - 2s - loss: 0.3362 - acc: 0.8617     \n",
      "Epoch 97/100\n",
      "8000/8000 [==============================] - 2s - loss: 0.3362 - acc: 0.8606     \n",
      "Epoch 98/100\n",
      "8000/8000 [==============================] - 2s - loss: 0.3359 - acc: 0.8625     \n",
      "Epoch 99/100\n",
      "8000/8000 [==============================] - 2s - loss: 0.3360 - acc: 0.8602     \n",
      "Epoch 100/100\n",
      "8000/8000 [==============================] - 2s - loss: 0.3356 - acc: 0.8610     \n"
     ]
    },
    {
     "data": {
      "text/plain": [
       "<keras.callbacks.History at 0x123404a90>"
      ]
     },
     "execution_count": 17,
     "metadata": {},
     "output_type": "execute_result"
    }
   ],
   "source": [
    "# fit ANN to training data\n",
    "# epochs : number of times for each run of whole data set\n",
    "#batch_size: no. of times after you want to update the weights\n",
    "classifier.fit(X_train, y_train, batch_size = 10 , nb_epoch = 100)"
   ]
  },
  {
   "cell_type": "code",
   "execution_count": 18,
   "metadata": {
    "collapsed": true
   },
   "outputs": [],
   "source": [
    "# Accuracy = 86.10%"
   ]
  },
  {
   "cell_type": "code",
   "execution_count": 19,
   "metadata": {
    "collapsed": true
   },
   "outputs": [],
   "source": [
    "y_pred = classifier.predict(X_test)"
   ]
  },
  {
   "cell_type": "code",
   "execution_count": 20,
   "metadata": {
    "collapsed": true
   },
   "outputs": [],
   "source": [
    "y_pred  = (y_pred > 0.5)"
   ]
  },
  {
   "cell_type": "code",
   "execution_count": 21,
   "metadata": {
    "collapsed": true
   },
   "outputs": [],
   "source": [
    "# Making the Confusion Matrix\n",
    "from sklearn.metrics import confusion_matrix\n",
    "cm = confusion_matrix(y_test, y_pred)"
   ]
  },
  {
   "cell_type": "code",
   "execution_count": 22,
   "metadata": {
    "collapsed": false
   },
   "outputs": [
    {
     "data": {
      "text/plain": [
       "array([[1500,   95],\n",
       "       [ 188,  217]])"
      ]
     },
     "execution_count": 22,
     "metadata": {},
     "output_type": "execute_result"
    }
   ],
   "source": [
    "cm"
   ]
  },
  {
   "cell_type": "code",
   "execution_count": null,
   "metadata": {
    "collapsed": true
   },
   "outputs": [],
   "source": []
  }
 ],
 "metadata": {
  "kernelspec": {
   "display_name": "Python [Root]",
   "language": "python",
   "name": "Python [Root]"
  },
  "language_info": {
   "codemirror_mode": {
    "name": "ipython",
    "version": 3
   },
   "file_extension": ".py",
   "mimetype": "text/x-python",
   "name": "python",
   "nbconvert_exporter": "python",
   "pygments_lexer": "ipython3",
   "version": "3.5.2"
  }
 },
 "nbformat": 4,
 "nbformat_minor": 0
}
